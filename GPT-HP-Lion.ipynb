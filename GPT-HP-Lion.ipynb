{
 "cells": [
  {
   "cell_type": "code",
   "execution_count": null,
   "metadata": {},
   "outputs": [],
   "source": [
    "!pip install wandb\n",
    "!pip install einops\n",
    "!pip install matplotlib\n",
    "!pip install lion-pytorch\n",
    "!wandb login ..."
   ]
  },
  {
   "cell_type": "code",
   "execution_count": 1,
   "metadata": {},
   "outputs": [],
   "source": [
    "import os, random, torch, wandb\n",
    "import torch.nn as nn\n",
    "import torch.nn.functional as F\n",
    "import matplotlib.pyplot as plt\n",
    "from torch.cuda.amp import GradScaler, autocast\n",
    "from einops import rearrange\n",
    "# from torch.optim import Adam\n",
    "from lion_pytorch import Lion\n",
    "from torch import einsum\n",
    "from math import sqrt\n",
    "from time import time"
   ]
  },
  {
   "cell_type": "markdown",
   "metadata": {},
   "source": [
    "### define GELU activation, LayerNorm module, GPT Layer, and GPT"
   ]
  },
  {
   "cell_type": "code",
   "execution_count": 2,
   "metadata": {},
   "outputs": [],
   "source": [
    "# GELU(x) = x * ϕ(x) where ϕ is the CDF of the Gaussian distribution\n",
    "class GELU(nn.Module):\n",
    "  def forward(self, x):\n",
    "    return x * 0.5 * (1 + torch.erf(x / sqrt(2)))"
   ]
  },
  {
   "cell_type": "code",
   "execution_count": 3,
   "metadata": {},
   "outputs": [],
   "source": [
    "class LayerNorm(nn.Module):\n",
    "  def __init__(self, d, eps=1e-5):\n",
    "    super().__init__()\n",
    "    self.d, self.eps = d, eps\n",
    "    self.w = nn.Parameter(torch.tensor(1.))\n",
    "    self.b = nn.Parameter(torch.tensor(0.))\n",
    "\n",
    "  def forward(self, x):\n",
    "    for i in range(len(x.shape) - 1, -1, -1):\n",
    "      if x.shape[i] == self.d:\n",
    "        d = i\n",
    "        break\n",
    "    mu = x.mean(d).unsqueeze(d)  # E[x]\n",
    "    mu_ = (x * x).mean(d).unsqueeze(d)  # E[x^2]\n",
    "    sigma = torch.sqrt(mu_ - mu * mu + self.eps)\n",
    "    return self.w * (x - mu) / sigma + self.b"
   ]
  },
  {
   "cell_type": "code",
   "execution_count": 4,
   "metadata": {},
   "outputs": [],
   "source": [
    "class Layer(nn.Module):\n",
    "  def __init__(self, d, nh):\n",
    "    super().__init__()\n",
    "    assert d % nh == 0, 'number of heads should divide embedding dim'\n",
    "    self.d, self.nh, self.h = d, nh, d // nh\n",
    "    self.wx, self.wo = nn.Linear(d, 3 * d), nn.Linear(d, d)\n",
    "    self.ln1, self.ln2 = LayerNorm(d), LayerNorm(d)\n",
    "    self.ffn = nn.Sequential(\n",
    "      nn.Linear(d, 4 * d), GELU(), nn.Linear(4 * d, d)\n",
    "    )\n",
    "\n",
    "    def fn(m):\n",
    "      if isinstance(m, nn.Linear):\n",
    "        nn.init.normal_(m.weight, 0, 0.02)\n",
    "        nn.init.zeros_(m.bias)\n",
    "\n",
    "    self.apply(fn)\n",
    "\n",
    "  def forward(self, xm):\n",
    "    x, m = xm\n",
    "    qkv = rearrange(self.wx(self.ln1(x)), 'b l D -> b D l')\n",
    "    q, k, v = rearrange(qkv, 'b (N h) l -> b N h l', h=self.h).split(self.nh, 1)\n",
    "    A = F.softmax((einsum('bhri, bhrj -> bhij', q, k) + m) / sqrt(self.d), -1)\n",
    "    H = einsum('bhic, bhjc -> bhij', v, A)\n",
    "    MHA = rearrange(rearrange(H, 'b nh h l -> b (nh h) l'), 'b d l -> b l d')\n",
    "    x = x + self.wo(MHA)\n",
    "    return x + self.ffn(self.ln2(x)), m"
   ]
  },
  {
   "cell_type": "code",
   "execution_count": 5,
   "metadata": {},
   "outputs": [],
   "source": [
    "class GPT(nn.Module):\n",
    "  def __init__(self, d, nh, nl, l, v):\n",
    "    super().__init__()\n",
    "    self.l = l\n",
    "    self.emb = nn.Embedding(v, d)  # token embeddings \n",
    "    nn.init.normal_(self.emb.weight, 0, 0.02)\n",
    "    self.pos = nn.Parameter(torch.randn(l, d) * 0.02)  # learned position embeddings\n",
    "    m = torch.tril(torch.ones(l, l)) - 1\n",
    "    m[m == -1] = float('-inf')\n",
    "    self.m = nn.Parameter(m, requires_grad=False)  # mask\n",
    "    self.layers = nn.Sequential(*[Layer(d, nh) for _ in range(nl)])  # layers \n",
    "    self.out = nn.Linear(d, v, bias=False)  # embedding to logits projection \n",
    "    nn.init.normal_(self.out.weight, 0, 0.02)\n",
    "    self.size = sum(p.numel() for p in self.parameters() if p.requires_grad)\n",
    "\n",
    "  def forward(self, t):\n",
    "    l = t.shape[-1]\n",
    "    assert l <= self.l, f'input sequence length should be <= {self.l}'\n",
    "    if len(t.shape) == 1:\n",
    "      t = t.unsqueeze(0)  # (l,) to (1, l)\n",
    "    xm = (self.emb(t) + self.pos[:l], self.m[:l, :l])\n",
    "    return self.out(self.layers(xm)[0]).squeeze()\n",
    "\n",
    "  def loss(self, it, ot):\n",
    "    return F.cross_entropy(\n",
    "      rearrange(self(it), 'b l v -> (b l) v'), rearrange(ot, 'b l -> (b l)')\n",
    "    )"
   ]
  },
  {
   "cell_type": "markdown",
   "metadata": {},
   "source": [
    "### load dataset, create encoder and decoder"
   ]
  },
  {
   "cell_type": "code",
   "execution_count": 6,
   "metadata": {},
   "outputs": [
    {
     "name": "stdout",
     "output_type": "stream",
     "text": [
      "size of the text: 6765174 characters\n"
     ]
    }
   ],
   "source": [
    "text = open('HP.txt', 'r').read()\n",
    "print(f'size of the text: {len(text)} characters')"
   ]
  },
  {
   "cell_type": "code",
   "execution_count": 7,
   "metadata": {},
   "outputs": [
    {
     "name": "stdout",
     "output_type": "stream",
     "text": [
      "size of the vocabulary: 92 characters\n",
      "\n",
      " !\"%&'()*,-./0123456789:;>?ABCDEFGHIJKLMNOPQRSTUVWXYZ\\]abcdefghijklmnopqrstuvwxyz|~—‘’“”•■□\n"
     ]
    }
   ],
   "source": [
    "vocab = sorted(list(set(text)))\n",
    "print(f'size of the vocabulary: {len(vocab)} characters')\n",
    "print(''.join(vocab))"
   ]
  },
  {
   "cell_type": "code",
   "execution_count": 8,
   "metadata": {},
   "outputs": [
    {
     "name": "stdout",
     "output_type": "stream",
     "text": [
      "Hello, World!\n",
      "[1, 2, 3, 4, 5]\n"
     ]
    }
   ],
   "source": [
    "stoi = {s: i for i, s in enumerate(vocab)}\n",
    "itos = {i: s for i, s in enumerate(vocab)}\n",
    "encode = lambda string: [stoi[x] for x in string]\n",
    "decode = lambda ids: ''.join([itos[x] for x in ids])\n",
    "\n",
    "# test\n",
    "print(decode(encode('Hello, World!')))\n",
    "print(encode(decode([1, 2, 3, 4, 5])))"
   ]
  },
  {
   "cell_type": "code",
   "execution_count": 9,
   "metadata": {},
   "outputs": [],
   "source": [
    "train_ids = encode(text)\n",
    "# character-level encoding => this equality should hold\n",
    "assert len(train_ids) == len(text)\n",
    "# convert to tensor\n",
    "train_ids = torch.tensor(train_ids)"
   ]
  },
  {
   "cell_type": "code",
   "execution_count": 10,
   "metadata": {},
   "outputs": [],
   "source": [
    "def get_batch(batch_size, l, device):\n",
    "  ids = random.choices(range(len(train_ids) - l - 1), k=batch_size) \n",
    "  batch = torch.stack([train_ids[i:i + l + 1] for i in ids])\n",
    "  return batch[:, :-1].to(device), batch[:, 1:].to(device)"
   ]
  },
  {
   "cell_type": "code",
   "execution_count": 11,
   "metadata": {},
   "outputs": [],
   "source": [
    "d = 12 * 30\n",
    "nh = 12\n",
    "nl = 8\n",
    "l = 256\n",
    "v = len(vocab)\n",
    "batch_size = 64\n",
    "steps = 15000\n",
    "interval = 100\n",
    "lr = 2e-4 / 3  # paper recommends 3x smaller lr than Adam\n",
    "\n",
    "if torch.cuda.is_available():\n",
    "  device = 'cuda'\n",
    "elif torch.backends.mps.is_available():\n",
    "  device = 'mps'\n",
    "else:\n",
    "  device = 'cpu'"
   ]
  },
  {
   "cell_type": "code",
   "execution_count": 12,
   "metadata": {},
   "outputs": [
    {
     "name": "stdout",
     "output_type": "stream",
     "text": [
      "size of the model: 12625952 parameters\n"
     ]
    }
   ],
   "source": [
    "model = GPT(d, nh, nl, l, v).to(device)\n",
    "print(f'size of the model: {model.size} parameters')\n",
    "optimizer = Lion(model.parameters(), lr=lr)"
   ]
  },
  {
   "cell_type": "markdown",
   "metadata": {},
   "source": [
    "### train loop"
   ]
  },
  {
   "cell_type": "code",
   "execution_count": 13,
   "metadata": {},
   "outputs": [
    {
     "name": "stderr",
     "output_type": "stream",
     "text": [
      "Failed to detect the name of this notebook, you can set it manually with the WANDB_NOTEBOOK_NAME environment variable to enable code saving.\n",
      "\u001b[34m\u001b[1mwandb\u001b[0m: Currently logged in as: \u001b[33makbirthko\u001b[0m. Use \u001b[1m`wandb login --relogin`\u001b[0m to force relogin\n"
     ]
    },
    {
     "data": {
      "text/html": [
       "Tracking run with wandb version 0.13.10"
      ],
      "text/plain": [
       "<IPython.core.display.HTML object>"
      ]
     },
     "metadata": {},
     "output_type": "display_data"
    },
    {
     "data": {
      "text/html": [
       "Run data is saved locally in <code>/workspace/wandb/run-20230215_193609-up4p6f9p</code>"
      ],
      "text/plain": [
       "<IPython.core.display.HTML object>"
      ]
     },
     "metadata": {},
     "output_type": "display_data"
    },
    {
     "data": {
      "text/html": [
       "Syncing run <strong><a href='https://wandb.ai/akbirthko/Harry%20Potter%20GPT/runs/up4p6f9p' target=\"_blank\">doting-carnation-8</a></strong> to <a href='https://wandb.ai/akbirthko/Harry%20Potter%20GPT' target=\"_blank\">Weights & Biases</a> (<a href='https://wandb.me/run' target=\"_blank\">docs</a>)<br/>"
      ],
      "text/plain": [
       "<IPython.core.display.HTML object>"
      ]
     },
     "metadata": {},
     "output_type": "display_data"
    },
    {
     "data": {
      "text/html": [
       " View project at <a href='https://wandb.ai/akbirthko/Harry%20Potter%20GPT' target=\"_blank\">https://wandb.ai/akbirthko/Harry%20Potter%20GPT</a>"
      ],
      "text/plain": [
       "<IPython.core.display.HTML object>"
      ]
     },
     "metadata": {},
     "output_type": "display_data"
    },
    {
     "data": {
      "text/html": [
       " View run at <a href='https://wandb.ai/akbirthko/Harry%20Potter%20GPT/runs/up4p6f9p' target=\"_blank\">https://wandb.ai/akbirthko/Harry%20Potter%20GPT/runs/up4p6f9p</a>"
      ],
      "text/plain": [
       "<IPython.core.display.HTML object>"
      ]
     },
     "metadata": {},
     "output_type": "display_data"
    },
    {
     "name": "stdout",
     "output_type": "stream",
     "text": [
      "loss: 2.7968092155456543\tstep: 100\ttime: 9.565938711166382s\n",
      "loss: 2.4374247646331786\tstep: 200\ttime: 9.08692479133606s\n",
      "loss: 2.345831377506256\tstep: 300\ttime: 9.05469560623169s\n",
      "loss: 2.2415652966499326\tstep: 400\ttime: 9.046038389205933s\n",
      "loss: 2.119318890571594\tstep: 500\ttime: 9.093839883804321s\n",
      "loss: 1.991312314271927\tstep: 600\ttime: 9.046479225158691s\n",
      "loss: 1.8567785894870759\tstep: 700\ttime: 9.065043449401855s\n",
      "loss: 1.7315952229499816\tstep: 800\ttime: 9.053457498550415s\n",
      "loss: 1.6134381330013274\tstep: 900\ttime: 9.050904750823975s\n",
      "loss: 1.5247160840034484\tstep: 1000\ttime: 9.062872171401978s\n",
      "loss: 1.4439779508113861\tstep: 1100\ttime: 9.09062671661377s\n",
      "loss: 1.3710617697238923\tstep: 1200\ttime: 8.961026668548584s\n",
      "loss: 1.3143145155906677\tstep: 1300\ttime: 9.011752605438232s\n",
      "loss: 1.263537164926529\tstep: 1400\ttime: 9.05294156074524s\n",
      "loss: 1.2250139784812928\tstep: 1500\ttime: 9.03203797340393s\n",
      "loss: 1.189524837732315\tstep: 1600\ttime: 9.05607533454895s\n",
      "loss: 1.1569825088977814\tstep: 1700\ttime: 9.042308807373047s\n",
      "loss: 1.1351288378238678\tstep: 1800\ttime: 9.027772426605225s\n",
      "loss: 1.1103893053531646\tstep: 1900\ttime: 9.050913572311401s\n",
      "loss: 1.0951377713680268\tstep: 2000\ttime: 9.054996490478516s\n",
      "loss: 1.07570739030838\tstep: 2100\ttime: 9.051732778549194s\n",
      "loss: 1.0591973543167115\tstep: 2200\ttime: 9.057010173797607s\n",
      "loss: 1.0504659914970398\tstep: 2300\ttime: 9.075972080230713s\n",
      "loss: 1.036672794818878\tstep: 2400\ttime: 9.076666593551636s\n",
      "loss: 1.0277350151538849\tstep: 2500\ttime: 9.069727182388306s\n",
      "loss: 1.0196685355901718\tstep: 2600\ttime: 9.064949035644531s\n",
      "loss: 1.003943426012993\tstep: 2700\ttime: 9.078233242034912s\n",
      "loss: 1.0008111524581909\tstep: 2800\ttime: 9.055160760879517s\n",
      "loss: 0.9861336755752563\tstep: 2900\ttime: 9.036942720413208s\n",
      "loss: 0.9807051873207092\tstep: 3000\ttime: 9.05480432510376s\n",
      "loss: 0.9742585867643356\tstep: 3100\ttime: 9.045990943908691s\n",
      "loss: 0.9646840906143188\tstep: 3200\ttime: 9.04040789604187s\n",
      "loss: 0.9614320701360702\tstep: 3300\ttime: 9.047510862350464s\n",
      "loss: 0.9549403285980225\tstep: 3400\ttime: 9.044665336608887s\n",
      "loss: 0.947022835612297\tstep: 3500\ttime: 9.059460163116455s\n",
      "loss: 0.9374436229467392\tstep: 3600\ttime: 9.064269304275513s\n",
      "loss: 0.9335670959949494\tstep: 3700\ttime: 9.059220314025879s\n",
      "loss: 0.9311621057987213\tstep: 3800\ttime: 9.053632974624634s\n",
      "loss: 0.9212972009181977\tstep: 3900\ttime: 9.057355165481567s\n",
      "loss: 0.9166086065769196\tstep: 4000\ttime: 9.057780504226685s\n",
      "loss: 0.9080212372541427\tstep: 4100\ttime: 9.021010637283325s\n",
      "loss: 0.904633931517601\tstep: 4200\ttime: 8.93309760093689s\n",
      "loss: 0.9011717081069947\tstep: 4300\ttime: 8.936043500900269s\n",
      "loss: 0.8931451362371444\tstep: 4400\ttime: 8.941961288452148s\n",
      "loss: 0.8887823367118836\tstep: 4500\ttime: 9.054828882217407s\n",
      "loss: 0.8823005855083466\tstep: 4600\ttime: 9.032258749008179s\n",
      "loss: 0.8774934738874436\tstep: 4700\ttime: 9.048056840896606s\n",
      "loss: 0.8768752545118332\tstep: 4800\ttime: 9.04382061958313s\n",
      "loss: 0.8698286765813827\tstep: 4900\ttime: 9.040481328964233s\n",
      "loss: 0.8652633494138717\tstep: 5000\ttime: 9.068740844726562s\n",
      "loss: 0.8614007288217544\tstep: 5100\ttime: 9.066365480422974s\n",
      "loss: 0.855253564119339\tstep: 5200\ttime: 9.0530264377594s\n",
      "loss: 0.8506478625535965\tstep: 5300\ttime: 9.065927267074585s\n",
      "loss: 0.8430993860960007\tstep: 5400\ttime: 9.055265665054321s\n",
      "loss: 0.8406931054592133\tstep: 5500\ttime: 9.029014825820923s\n",
      "loss: 0.8382196223735809\tstep: 5600\ttime: 9.036773443222046s\n",
      "loss: 0.8327900075912475\tstep: 5700\ttime: 9.014066457748413s\n",
      "loss: 0.8282641804218293\tstep: 5800\ttime: 9.027061462402344s\n",
      "loss: 0.8246161407232284\tstep: 5900\ttime: 9.043880224227905s\n",
      "loss: 0.8174700570106507\tstep: 6000\ttime: 9.029240846633911s\n",
      "loss: 0.8140642893314362\tstep: 6100\ttime: 9.025193691253662s\n",
      "loss: 0.8130613660812378\tstep: 6200\ttime: 9.043816089630127s\n",
      "loss: 0.8069521313905716\tstep: 6300\ttime: 9.050172090530396s\n",
      "loss: 0.8015105456113816\tstep: 6400\ttime: 9.032248497009277s\n",
      "loss: 0.7985811638832092\tstep: 6500\ttime: 9.044637203216553s\n",
      "loss: 0.7935444974899292\tstep: 6600\ttime: 9.031688690185547s\n",
      "loss: 0.7873986178636551\tstep: 6700\ttime: 9.062924861907959s\n",
      "loss: 0.7862463623285294\tstep: 6800\ttime: 9.075836420059204s\n",
      "loss: 0.7780189269781113\tstep: 6900\ttime: 9.073927879333496s\n",
      "loss: 0.7736781895160675\tstep: 7000\ttime: 9.063042163848877s\n",
      "loss: 0.7726615941524506\tstep: 7100\ttime: 9.078473091125488s\n",
      "loss: 0.7687775391340256\tstep: 7200\ttime: 9.037545680999756s\n",
      "loss: 0.7620611053705215\tstep: 7300\ttime: 9.059812545776367s\n",
      "loss: 0.7596120595932007\tstep: 7400\ttime: 9.062867403030396s\n",
      "loss: 0.7560329622030258\tstep: 7500\ttime: 9.101233005523682s\n",
      "loss: 0.7496765124797821\tstep: 7600\ttime: 9.04473876953125s\n",
      "loss: 0.7459459972381591\tstep: 7700\ttime: 9.034446954727173s\n",
      "loss: 0.7399611032009125\tstep: 7800\ttime: 9.035094499588013s\n",
      "loss: 0.7399535572528839\tstep: 7900\ttime: 9.046114444732666s\n",
      "loss: 0.7323630797863007\tstep: 8000\ttime: 9.032275915145874s\n",
      "loss: 0.7303205597400665\tstep: 8100\ttime: 9.058072328567505s\n",
      "loss: 0.7261423468589783\tstep: 8200\ttime: 9.050171375274658s\n",
      "loss: 0.7213300895690918\tstep: 8300\ttime: 9.063198328018188s\n",
      "loss: 0.7170286691188812\tstep: 8400\ttime: 9.057059288024902s\n",
      "loss: 0.7154710108041763\tstep: 8500\ttime: 9.035311937332153s\n",
      "loss: 0.706894906759262\tstep: 8600\ttime: 9.054894208908081s\n",
      "loss: 0.7048797899484635\tstep: 8700\ttime: 9.10532546043396s\n",
      "loss: 0.7025828152894974\tstep: 8800\ttime: 9.051296949386597s\n",
      "loss: 0.6977244544029236\tstep: 8900\ttime: 9.050947904586792s\n",
      "loss: 0.6931357073783875\tstep: 9000\ttime: 9.047533750534058s\n",
      "loss: 0.6880649566650391\tstep: 9100\ttime: 9.037209033966064s\n",
      "loss: 0.6856516563892364\tstep: 9200\ttime: 9.038142204284668s\n",
      "loss: 0.6839408528804779\tstep: 9300\ttime: 9.05190372467041s\n",
      "loss: 0.6778681707382203\tstep: 9400\ttime: 9.044758558273315s\n",
      "loss: 0.6731352078914642\tstep: 9500\ttime: 9.071851968765259s\n",
      "loss: 0.6676885634660721\tstep: 9600\ttime: 9.065901041030884s\n",
      "loss: 0.6665808469057083\tstep: 9700\ttime: 9.054890155792236s\n",
      "loss: 0.6617004209756852\tstep: 9800\ttime: 9.05139946937561s\n",
      "loss: 0.6552531170845032\tstep: 9900\ttime: 9.046492576599121s\n",
      "loss: 0.6570618057250976\tstep: 10000\ttime: 9.030388116836548s\n",
      "loss: 0.6495880216360093\tstep: 10100\ttime: 9.068253993988037s\n",
      "loss: 0.6470782059431076\tstep: 10200\ttime: 9.048662662506104s\n",
      "loss: 0.6443190747499465\tstep: 10300\ttime: 9.034929990768433s\n",
      "loss: 0.6392508935928345\tstep: 10400\ttime: 9.04630160331726s\n",
      "loss: 0.6361160635948181\tstep: 10500\ttime: 9.025766849517822s\n",
      "loss: 0.6338962489366531\tstep: 10600\ttime: 9.081398248672485s\n",
      "loss: 0.6285474568605423\tstep: 10700\ttime: 9.054893016815186s\n",
      "loss: 0.6249661135673523\tstep: 10800\ttime: 9.066806077957153s\n",
      "loss: 0.6183392238616944\tstep: 10900\ttime: 9.046239137649536s\n",
      "loss: 0.6183425968885422\tstep: 11000\ttime: 9.048572301864624s\n",
      "loss: 0.6172686690092086\tstep: 11100\ttime: 9.052087783813477s\n",
      "loss: 0.6135141742229462\tstep: 11200\ttime: 9.066898584365845s\n",
      "loss: 0.6075865119695664\tstep: 11300\ttime: 9.074227571487427s\n",
      "loss: 0.6041956251859665\tstep: 11400\ttime: 9.031257152557373s\n",
      "loss: 0.6008746004104615\tstep: 11500\ttime: 9.09556770324707s\n",
      "loss: 0.5974971401691437\tstep: 11600\ttime: 9.07978081703186s\n",
      "loss: 0.5939991861581803\tstep: 11700\ttime: 9.029711246490479s\n",
      "loss: 0.5908221942186356\tstep: 11800\ttime: 9.032536506652832s\n",
      "loss: 0.5885364180803299\tstep: 11900\ttime: 9.013731241226196s\n",
      "loss: 0.5831074583530426\tstep: 12000\ttime: 9.05963134765625s\n",
      "loss: 0.5807784229516983\tstep: 12100\ttime: 9.039008855819702s\n",
      "loss: 0.5739867848157882\tstep: 12200\ttime: 9.036560773849487s\n",
      "loss: 0.5752745008468628\tstep: 12300\ttime: 9.039063692092896s\n",
      "loss: 0.5710497498512268\tstep: 12400\ttime: 9.064625263214111s\n",
      "loss: 0.5704773515462875\tstep: 12500\ttime: 9.048797845840454s\n",
      "loss: 0.5639298588037491\tstep: 12600\ttime: 9.03512978553772s\n",
      "loss: 0.5620572900772095\tstep: 12700\ttime: 9.053981304168701s\n",
      "loss: 0.5574898535013199\tstep: 12800\ttime: 9.086844444274902s\n",
      "loss: 0.5575103318691254\tstep: 12900\ttime: 9.090155601501465s\n",
      "loss: 0.551570143699646\tstep: 13000\ttime: 9.078129291534424s\n",
      "loss: 0.5501576924324035\tstep: 13100\ttime: 9.042294025421143s\n",
      "loss: 0.5425554323196411\tstep: 13200\ttime: 9.05283784866333s\n",
      "loss: 0.5423955953121186\tstep: 13300\ttime: 9.054524183273315s\n",
      "loss: 0.5413996851444245\tstep: 13400\ttime: 9.059337854385376s\n",
      "loss: 0.5366531133651733\tstep: 13500\ttime: 9.069845199584961s\n",
      "loss: 0.5362060549855232\tstep: 13600\ttime: 9.085983037948608s\n",
      "loss: 0.5298483803868294\tstep: 13700\ttime: 9.052837133407593s\n",
      "loss: 0.5279272973537446\tstep: 13800\ttime: 9.04941987991333s\n",
      "loss: 0.5260462558269501\tstep: 13900\ttime: 9.054927349090576s\n",
      "loss: 0.5198120927810669\tstep: 14000\ttime: 9.081313610076904s\n",
      "loss: 0.5192978790402413\tstep: 14100\ttime: 9.071716785430908s\n",
      "loss: 0.5162363436818123\tstep: 14200\ttime: 9.083189964294434s\n",
      "loss: 0.5094927194714546\tstep: 14300\ttime: 9.04645323753357s\n",
      "loss: 0.5114504808187484\tstep: 14400\ttime: 9.062468767166138s\n",
      "loss: 0.5065026769042015\tstep: 14500\ttime: 9.047791957855225s\n",
      "loss: 0.5061403596401215\tstep: 14600\ttime: 9.059043169021606s\n",
      "loss: 0.5026598095893859\tstep: 14700\ttime: 9.069861888885498s\n",
      "loss: 0.5014046880602837\tstep: 14800\ttime: 9.042330265045166s\n",
      "loss: 0.49683844327926635\tstep: 14900\ttime: 9.04874873161316s\n",
      "loss: 0.49545422464609146\tstep: 15000\ttime: 9.043148279190063s\n"
     ]
    },
    {
     "data": {
      "text/html": [
       "Waiting for W&B process to finish... <strong style=\"color:green\">(success).</strong>"
      ],
      "text/plain": [
       "<IPython.core.display.HTML object>"
      ]
     },
     "metadata": {},
     "output_type": "display_data"
    },
    {
     "data": {
      "application/vnd.jupyter.widget-view+json": {
       "model_id": "743e4bd7dd5f4aa0b33dd17f41daecb8",
       "version_major": 2,
       "version_minor": 0
      },
      "text/plain": [
       "VBox(children=(Label(value='0.003 MB of 0.024 MB uploaded (0.000 MB deduped)\\r'), FloatProgress(value=0.137912…"
      ]
     },
     "metadata": {},
     "output_type": "display_data"
    },
    {
     "data": {
      "text/html": [
       "<style>\n",
       "    table.wandb td:nth-child(1) { padding: 0 10px; text-align: left ; width: auto;} td:nth-child(2) {text-align: left ; width: 100%}\n",
       "    .wandb-row { display: flex; flex-direction: row; flex-wrap: wrap; justify-content: flex-start; width: 100% }\n",
       "    .wandb-col { display: flex; flex-direction: column; flex-basis: 100%; flex: 1; padding: 10px; }\n",
       "    </style>\n",
       "<div class=\"wandb-row\"><div class=\"wandb-col\"><h3>Run history:</h3><br/><table class=\"wandb\"><tr><td>loss</td><td>█▇▅▄▃▃▃▃▃▂▂▂▂▂▂▂▂▂▂▂▂▂▂▂▂▂▂▁▁▁▁▁▁▁▁▁▁▁▁▁</td></tr></table><br/></div><div class=\"wandb-col\"><h3>Run summary:</h3><br/><table class=\"wandb\"><tr><td>loss</td><td>0.49805</td></tr></table><br/></div></div>"
      ],
      "text/plain": [
       "<IPython.core.display.HTML object>"
      ]
     },
     "metadata": {},
     "output_type": "display_data"
    },
    {
     "data": {
      "text/html": [
       " View run <strong style=\"color:#cdcd00\">doting-carnation-8</strong> at: <a href='https://wandb.ai/akbirthko/Harry%20Potter%20GPT/runs/up4p6f9p' target=\"_blank\">https://wandb.ai/akbirthko/Harry%20Potter%20GPT/runs/up4p6f9p</a><br/>Synced 6 W&B file(s), 0 media file(s), 0 artifact file(s) and 0 other file(s)"
      ],
      "text/plain": [
       "<IPython.core.display.HTML object>"
      ]
     },
     "metadata": {},
     "output_type": "display_data"
    },
    {
     "data": {
      "text/html": [
       "Find logs at: <code>./wandb/run-20230215_193609-up4p6f9p/logs</code>"
      ],
      "text/plain": [
       "<IPython.core.display.HTML object>"
      ]
     },
     "metadata": {},
     "output_type": "display_data"
    }
   ],
   "source": [
    "wandb.init(project='Harry Potter GPT')\n",
    "wandb.run.name = 'Lion lr/3'\n",
    "\n",
    "losses = []\n",
    "scaler = GradScaler()\n",
    "s = time()\n",
    "for i in range(1, steps + 1):\n",
    "  # fp16 training\n",
    "  with autocast():\n",
    "    loss = model.loss(*get_batch(batch_size, l, device))\n",
    "  # logging\n",
    "  losses.append(loss.item())\n",
    "  wandb.log({'loss': losses[-1]})\n",
    "  if i % interval == 0:\n",
    "    avg_loss = sum(losses[-interval:]) / interval \n",
    "    print(f'loss: {avg_loss}\\tstep: {i}\\ttime: {time() - s}s')\n",
    "    s = time()\n",
    "  # training step\n",
    "  scaler.scale(loss).backward()\n",
    "  scaler.step(optimizer)\n",
    "  scaler.update()\n",
    "  optimizer.zero_grad()\n",
    "\n",
    "wandb.finish()"
   ]
  },
  {
   "cell_type": "code",
   "execution_count": 14,
   "metadata": {},
   "outputs": [
    {
     "data": {
      "text/plain": [
       "[<matplotlib.lines.Line2D at 0x7f21e176dcc0>]"
      ]
     },
     "execution_count": 14,
     "metadata": {},
     "output_type": "execute_result"
    },
    {
     "data": {
      "image/png": "[encoded data removed]",
      "text/plain": [
       "<Figure size 1000x1000 with 1 Axes>"
      ]
     },
     "metadata": {},
     "output_type": "display_data"
    }
   ],
   "source": [
    "fig = plt.figure(figsize=(10, 10))\n",
    "plt.xlabel('step')\n",
    "plt.ylabel('loss')\n",
    "plt.xlim(0, steps)\n",
    "plt.xticks(list(range(0, steps + 1000, 1000)))\n",
    "plt.plot(list(range(steps)), losses)"
   ]
  },
  {
   "cell_type": "markdown",
   "metadata": {},
   "source": [
    "### test the model"
   ]
  },
  {
   "cell_type": "code",
   "execution_count": 15,
   "metadata": {},
   "outputs": [],
   "source": [
    "def generate(model, text, n, temp=0.9, device='cpu'):\n",
    "  assert len(text) > 0\n",
    "  print(text, end='')\n",
    "  it = torch.tensor(encode(text)).to(device)  # input tokens\n",
    "  with torch.no_grad():\n",
    "    for _ in range(n):\n",
    "      p = F.softmax(model(it[-model.l:]) / temp, -1)[-1]  # prob distribution\n",
    "      t = torch.multinomial(p, 1)  # next token\n",
    "      it = torch.cat((it, t), -1)  # concatenate with prev tokens\n",
    "      text += decode([t.item()])  # concatenate with prompt\n",
    "      print(text[-1], end='')\n",
    "    return text, it  # return completed text and tokens"
   ]
  },
  {
   "cell_type": "code",
   "execution_count": 16,
   "metadata": {},
   "outputs": [
    {
     "name": "stdout",
     "output_type": "stream",
     "text": [
      "Harry and Hagrid entered Diagon Alley. “What in the \n",
      "library who can particular doze, if you can clear \n",
      "then, McGonagall, you’re in shocolor by our maniful \n",
      "school ...” \n",
      "\n",
      "“I’m getting better,” said Hagrid carelessly, standing up \n",
      "and strode backward. \n",
      "\n",
      "“I’m not young, you’re not Mought — Miss Batile’s — ” \n",
      "\n",
      "“ — am I speaking to my bersee that you are the \n",
      "exilarraration for me at hearing about my races.” \n",
      "\n",
      "“Has Secrets returned to the castle for years, and \n",
      "will September the orchestration I suffered down \n",
      "matters in concentration,"
     ]
    }
   ],
   "source": [
    "_ = generate(model, 'Harry and Hagrid entered Diagon Alley', 500, device=device)"
   ]
  },
  {
   "cell_type": "code",
   "execution_count": 17,
   "metadata": {},
   "outputs": [
    {
     "name": "stdout",
     "output_type": "stream",
     "text": [
      "Voldemort cast his wand aside and he looked at \n",
      "Voldemort. \n",
      "\n",
      "\n",
      "\n",
      "Page | 430 Harry Potter and the Prisoner of Azkaban - J.K. Rowling \n",
      "\n",
      "\n",
      "\n",
      "\n",
      "“Good evening, Harry!” roared Snape. \n",
      "\n",
      "“Everybody left Hogsmeade you conjured,” said \n",
      "Dumbledore, talking over him and his face pressed \n",
      "again the door so closed. “Excellent, are you all right?” \n",
      "\n",
      "Page | 608 Harry Potter and the Half Blood Prince - J.K. Rowling \n",
      "\n",
      "\n",
      "\n",
      "\n",
      "“No, no,” said Voldemort softly, “that’s really much \n",
      "more than that. We’ve trafficks first. Dumbledore \n",
      "only hasn’t backed, but I "
     ]
    }
   ],
   "source": [
    "_ = generate(model, 'Voldemort cast his wand aside and', 500, device=device)"
   ]
  },
  {
   "cell_type": "code",
   "execution_count": 18,
   "metadata": {},
   "outputs": [
    {
     "name": "stdout",
     "output_type": "stream",
     "text": [
      "Dumbledore sent a blast of fire from his wand direct at Voldemort, \n",
      "and the snake beyond the greenhouses had been \n",
      "struggled to a halt in the darkness. \n",
      "\n",
      "“It’s a good one,” said Harry casually. \n",
      "\n",
      "“Yes, it is!” said Dumbledore, and he took the \n",
      "maze. \n",
      "\n",
      "“This beautiful wizard is empty. Do you wish me to \n",
      "see me, Harry?” \n",
      "\n",
      "“Sorry, but — but I didn’t think you wanted to \n",
      "use them all sing: the teachers dog, and the ones who \n",
      "had been waiting for them all summer. They were \n",
      "starting to get dirmirors, though their figures making \n",
      "powers above them windows. \n",
      "\n",
      "“What’s the — ?” \n",
      "\n",
      "“Summons,” said Harry, “you’ve met her, as a matter of \n",
      "fact.” \n",
      "\n",
      "“You’re a natural illness,” said Madam Pomfrey, beaming \n",
      "at him. \n",
      "\n",
      "“You’re not allowed to come here?” said Moody. \n",
      "\n",
      "His hand closed in midair, his eyes widening slightly. \n",
      "The orcasional sounded over the vastness of the \n",
      "wind and had set for him giving Harry a heat, \n",
      "\n",
      "“I’ve got to go first, I’ve got to a leaf of our books.” \n",
      "\n",
      "“What happened to you?” Ron asked the remaining \n",
      "of this class. \n",
      "\n",
      "“I don’t know, Harry, but I don’t support them \n",
      "Muggle could organize a dinner. Why do they \n",
      "Disapparated before the Muggle whole family have \n",
      "sent him free? Didn’t I tell you I’d have told you how \n",
      "to work it? No, I think you’d better down anyone!” \n",
      "\n",
      "“You know what you’re doing!” said Hermione, \n",
      "staring at the door with her but continued to stare \n",
      "at her. “Why?” \n",
      "\n",
      "“I don’t know about that incantation,” said Harry. \n",
      "\n",
      "“Yes, if the staffroom gets completely correct, I would \n",
      "never dream about it. There was only one.” \n",
      "\n",
      "“But you do,” said Harry slightly desperately. \n",
      "\n",
      "“What do you mean, then?” demanded the others. \n",
      "\n",
      "“The whole school’s over,” said Lupin. “The Dark Lumory \n",
      "Transfigured — if we did — you don’t know anything \n",
      "about it, or we’re about to tell you who should \n",
      "vorit fake anything if you find Voldemort saved five \n",
      "minutes into the Leaky Cauldron. There was a great \n",
      "deal of punishment firecack in his orb hand, which \n",
      "had been slammed into the pool once by Luna. \n",
      "\n",
      "“Oh, let’s this mean,” said Luna, speaking a"
     ]
    }
   ],
   "source": [
    "_ = generate(\n",
    "  model,\n",
    "  'Dumbledore sent a blast of fire from his wand direct at Voldemort',\n",
    "  2000,\n",
    "  temp=0.3,\n",
    "  device=device\n",
    ")"
   ]
  },
  {
   "cell_type": "markdown",
   "metadata": {},
   "source": [
    "### save the model checkpoint"
   ]
  },
  {
   "cell_type": "code",
   "execution_count": 19,
   "metadata": {},
   "outputs": [],
   "source": [
    "torch.save(model.state_dict(), 'GPT-HP-Lion-2.pt')"
   ]
  }
 ],
 "metadata": {
  "kernelspec": {
   "display_name": "Python 3 (ipykernel)",
   "language": "python",
   "name": "python3"
  },
  "language_info": {
   "codemirror_mode": {
    "name": "ipython",
    "version": 3
   },
   "file_extension": ".py",
   "mimetype": "text/x-python",
   "name": "python",
   "nbconvert_exporter": "python",
   "pygments_lexer": "ipython3",
   "version": "3.10.8"
  },
  "vscode": {
   "interpreter": {
    "hash": "6853348a90b764e0ce1587f738b4d683742984c20b09cc3d62590f42747f70b1"
   }
  }
 },
 "nbformat": 4,
 "nbformat_minor": 2
}
